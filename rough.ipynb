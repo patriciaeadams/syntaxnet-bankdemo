{
 "cells": [
  {
   "cell_type": "code",
   "execution_count": 74,
   "metadata": {
    "collapsed": false
   },
   "outputs": [],
   "source": [
    "import pandas as pd\n",
    "import datetime\n",
    "\n",
    "import bankInfoExtractor as bie\n",
    "import taggedToTree as ttt\n",
    "import subprocess\n",
    "import timestring"
   ]
  },
  {
   "cell_type": "code",
   "execution_count": 72,
   "metadata": {
    "collapsed": true
   },
   "outputs": [],
   "source": [
    "def stoinfo(s):\n",
    "    #TBD: Remove hard coding of paths\n",
    "    HOME_PATH = 'set_to_home_path'\n",
    "    PROJECT_PATH = HOME_PATH + 'set_to_where_syntaxnet_is_installed'\n",
    "                                #Eg: /home/user/syntaxnet/models/syntaxnet\n",
    "\n",
    "    CWD = PROJECT_PATH\n",
    "    SD_PATH = CWD + '/syntaxnet'\n",
    "    DEMO_CMD = 'demo.sh'\n",
    "    \n",
    "    cmd = 'echo \"' + s + '\" | ' + SD_PATH + '/' + DEMO_CMD + ' 2>/dev/null'\n",
    "    \n",
    "    sno = subprocess.check_output(cmd, shell=True, cwd=CWD)\n",
    "\n",
    "    sno_st = '\\n'.join(sno.split('\\n')[2:]).rstrip()\n",
    "    print sno_st\n",
    "\n",
    "    print \"-----\"\n",
    "    root = ttt.str_to_tree(sno_st)\n",
    "#    ttt.print_node(root, 0)\n",
    "\n",
    "#    print \"--- clean up tree to remove unnecessary nodes---\"\n",
    "    root = bie.cleanTree(root)\n",
    "#    ttt.print_node(root, 0)\n",
    "\n",
    "#    print \"Extracting (keyword,adj)\"\n",
    "    (keyword,adj) = bie.bankKeyWord(root)\n",
    "#    print \"keyword: \" + keyword\n",
    "#    print \"adj: \" + adj\n",
    "\n",
    "#    print \"Extracting Timeline\"\n",
    "    r = bie.timeLine(root)\n",
    "    return (keyword, adj, r)"
   ]
  },
  {
   "cell_type": "code",
   "execution_count": 75,
   "metadata": {
    "collapsed": false
   },
   "outputs": [
    {
     "name": "stdout",
     "output_type": "stream",
     "text": [
      "balance NN ROOT\n",
      " +-- average JJ amod\n",
      " +-- from IN prep\n",
      "     +-- 2016 CD pobj\n",
      "     |   +-- january JJ amod\n",
      "     +-- to IN prep\n",
      "         +-- 2016 CD pobj\n",
      "             +-- july RB advmod\n",
      "-----\n",
      "Tree form\n",
      " from\n",
      "\t 2016\n",
      "\t\t january\n",
      "\t to\n",
      "\t\t 2016\n",
      "\t\t\t july\n",
      "-----\n",
      "2016 january to 2016 july\n",
      "from 2016 january to 2016 july\n",
      "From 01/01/16 00:00:00 to 07/01/16 00:00:00\n"
     ]
    }
   ],
   "source": [
    "key, adj, r = stoinfo(\"average balance from january 2016 to july 2016\")"
   ]
  },
  {
   "cell_type": "code",
   "execution_count": 57,
   "metadata": {
    "collapsed": false
   },
   "outputs": [
    {
     "name": "stdout",
     "output_type": "stream",
     "text": [
      "key=balance, adj=avg, r=From 01/01/16 00:00:00 to 02/01/16 00:00:00\n"
     ]
    }
   ],
   "source": [
    "print 'key=%s, adj=%s, r=%s'%(key,adj,r)"
   ]
  },
  {
   "cell_type": "code",
   "execution_count": null,
   "metadata": {
    "collapsed": true
   },
   "outputs": [],
   "source": []
  },
  {
   "cell_type": "code",
   "execution_count": 77,
   "metadata": {
    "collapsed": false
   },
   "outputs": [
    {
     "data": {
      "text/html": [
       "<div>\n",
       "<table border=\"1\" class=\"dataframe\">\n",
       "  <thead>\n",
       "    <tr style=\"text-align: right;\">\n",
       "      <th></th>\n",
       "      <th>Description</th>\n",
       "      <th>Amount</th>\n",
       "      <th>Balance</th>\n",
       "    </tr>\n",
       "    <tr>\n",
       "      <th>Date</th>\n",
       "      <th></th>\n",
       "      <th></th>\n",
       "      <th></th>\n",
       "    </tr>\n",
       "  </thead>\n",
       "  <tbody>\n",
       "    <tr>\n",
       "      <th>2015-07-12</th>\n",
       "      <td>Beginning balance as of 07/12/2015</td>\n",
       "      <td>NaN</td>\n",
       "      <td>14568.67</td>\n",
       "    </tr>\n",
       "    <tr>\n",
       "      <th>2015-07-13</th>\n",
       "      <td>CHECK TO ED</td>\n",
       "      <td>-250.00</td>\n",
       "      <td>14318.67</td>\n",
       "    </tr>\n",
       "    <tr>\n",
       "      <th>2015-07-14</th>\n",
       "      <td>CASANERO INC DES:DIRECT DEP</td>\n",
       "      <td>7810.59</td>\n",
       "      <td>22129.26</td>\n",
       "    </tr>\n",
       "    <tr>\n",
       "      <th>2015-07-14</th>\n",
       "      <td>CHECK 4125</td>\n",
       "      <td>-150.00</td>\n",
       "      <td>21979.26</td>\n",
       "    </tr>\n",
       "    <tr>\n",
       "      <th>2015-07-15</th>\n",
       "      <td>MILAGRO INC:DIR DEP</td>\n",
       "      <td>2250.65</td>\n",
       "      <td>24229.91</td>\n",
       "    </tr>\n",
       "  </tbody>\n",
       "</table>\n",
       "</div>"
      ],
      "text/plain": [
       "                                   Description   Amount   Balance\n",
       "Date                                                             \n",
       "2015-07-12  Beginning balance as of 07/12/2015      NaN  14568.67\n",
       "2015-07-13                         CHECK TO ED  -250.00  14318.67\n",
       "2015-07-14         CASANERO INC DES:DIRECT DEP  7810.59  22129.26\n",
       "2015-07-14                          CHECK 4125  -150.00  21979.26\n",
       "2015-07-15                 MILAGRO INC:DIR DEP  2250.65  24229.91"
      ]
     },
     "execution_count": 77,
     "metadata": {},
     "output_type": "execute_result"
    }
   ],
   "source": [
    "df = pd.read_csv('citistmt.csv', header=1)\n",
    "\n",
    "df.columns = ['Date', 'Description', 'Amount','Balance']\n",
    "df.loc[:,'Balance'] = df.Balance.map(lambda x: ''.join(x.split(',')))\n",
    "df.loc[:,'Balance'] = df.Balance.astype(float)\n",
    "\n",
    "df.loc[:,'Date'] = pd.to_datetime(df['Date'])\n",
    "\n",
    "df.set_index(['Date'], drop=True, inplace=True)\n",
    "df.head()"
   ]
  },
  {
   "cell_type": "code",
   "execution_count": 78,
   "metadata": {
    "collapsed": false
   },
   "outputs": [
    {
     "data": {
      "text/html": [
       "<div>\n",
       "<table border=\"1\" class=\"dataframe\">\n",
       "  <thead>\n",
       "    <tr style=\"text-align: right;\">\n",
       "      <th></th>\n",
       "      <th>Description</th>\n",
       "      <th>Amount</th>\n",
       "      <th>Balance</th>\n",
       "    </tr>\n",
       "    <tr>\n",
       "      <th>Date</th>\n",
       "      <th></th>\n",
       "      <th></th>\n",
       "      <th></th>\n",
       "    </tr>\n",
       "  </thead>\n",
       "  <tbody>\n",
       "    <tr>\n",
       "      <th>2016-05-13</th>\n",
       "      <td>CASANERO INC DES:DIRECT DEP</td>\n",
       "      <td>7810.59</td>\n",
       "      <td>79430.67</td>\n",
       "    </tr>\n",
       "    <tr>\n",
       "      <th>2016-05-16</th>\n",
       "      <td>ATM WITHDRWL COLLIN TX</td>\n",
       "      <td>-1500.00</td>\n",
       "      <td>77930.67</td>\n",
       "    </tr>\n",
       "    <tr>\n",
       "      <th>2016-05-16</th>\n",
       "      <td>LEG INSURANCE</td>\n",
       "      <td>-124.65</td>\n",
       "      <td>77806.02</td>\n",
       "    </tr>\n",
       "    <tr>\n",
       "      <th>2016-05-20</th>\n",
       "      <td>Check 4163</td>\n",
       "      <td>-150.00</td>\n",
       "      <td>77656.02</td>\n",
       "    </tr>\n",
       "    <tr>\n",
       "      <th>2016-05-26</th>\n",
       "      <td>CASANERO INC DES:DIRECT DEP</td>\n",
       "      <td>7810.59</td>\n",
       "      <td>85466.61</td>\n",
       "    </tr>\n",
       "    <tr>\n",
       "      <th>2016-05-31</th>\n",
       "      <td>KABULI LOAN PAYMENT</td>\n",
       "      <td>-213.00</td>\n",
       "      <td>85253.61</td>\n",
       "    </tr>\n",
       "    <tr>\n",
       "      <th>2016-06-01</th>\n",
       "      <td>MILAGRO INC:DIR DEP</td>\n",
       "      <td>2250.65</td>\n",
       "      <td>87504.26</td>\n",
       "    </tr>\n",
       "    <tr>\n",
       "      <th>2016-06-01</th>\n",
       "      <td>Check 4164</td>\n",
       "      <td>-500.00</td>\n",
       "      <td>87004.26</td>\n",
       "    </tr>\n",
       "    <tr>\n",
       "      <th>2016-06-01</th>\n",
       "      <td>Online scheduled transfer to Savings Account</td>\n",
       "      <td>-200.00</td>\n",
       "      <td>86804.26</td>\n",
       "    </tr>\n",
       "    <tr>\n",
       "      <th>2016-06-02</th>\n",
       "      <td>HOME MTG</td>\n",
       "      <td>-1400.00</td>\n",
       "      <td>85404.26</td>\n",
       "    </tr>\n",
       "    <tr>\n",
       "      <th>2016-06-03</th>\n",
       "      <td>HOME SECURITY</td>\n",
       "      <td>-40.00</td>\n",
       "      <td>85364.26</td>\n",
       "    </tr>\n",
       "    <tr>\n",
       "      <th>2016-06-06</th>\n",
       "      <td>TOM THUMB</td>\n",
       "      <td>-98.78</td>\n",
       "      <td>85265.48</td>\n",
       "    </tr>\n",
       "    <tr>\n",
       "      <th>2016-06-06</th>\n",
       "      <td>DISCOVERY CREDIT CARD: ONLINE</td>\n",
       "      <td>-1175.06</td>\n",
       "      <td>84090.42</td>\n",
       "    </tr>\n",
       "    <tr>\n",
       "      <th>2016-06-07</th>\n",
       "      <td>Check 4165</td>\n",
       "      <td>-2902.26</td>\n",
       "      <td>81188.16</td>\n",
       "    </tr>\n",
       "    <tr>\n",
       "      <th>2016-06-08</th>\n",
       "      <td>HOME INSURANCE</td>\n",
       "      <td>-100.00</td>\n",
       "      <td>81088.16</td>\n",
       "    </tr>\n",
       "    <tr>\n",
       "      <th>2016-06-08</th>\n",
       "      <td>CAR INSURANCE</td>\n",
       "      <td>-80.00</td>\n",
       "      <td>81008.16</td>\n",
       "    </tr>\n",
       "    <tr>\n",
       "      <th>2016-06-14</th>\n",
       "      <td>Check 4166</td>\n",
       "      <td>-217.13</td>\n",
       "      <td>80791.03</td>\n",
       "    </tr>\n",
       "    <tr>\n",
       "      <th>2016-06-15</th>\n",
       "      <td>MILAGRO INC:DIR DEP</td>\n",
       "      <td>2250.65</td>\n",
       "      <td>83041.68</td>\n",
       "    </tr>\n",
       "    <tr>\n",
       "      <th>2016-06-15</th>\n",
       "      <td>CASANERO INC DES:DIRECT DEP</td>\n",
       "      <td>7810.59</td>\n",
       "      <td>90852.27</td>\n",
       "    </tr>\n",
       "    <tr>\n",
       "      <th>2016-06-16</th>\n",
       "      <td>LEG INSURANCE</td>\n",
       "      <td>-124.65</td>\n",
       "      <td>90727.62</td>\n",
       "    </tr>\n",
       "    <tr>\n",
       "      <th>2016-06-23</th>\n",
       "      <td>ATM WITHDRWL COLLIN TX</td>\n",
       "      <td>-300.00</td>\n",
       "      <td>90427.62</td>\n",
       "    </tr>\n",
       "    <tr>\n",
       "      <th>2016-06-24</th>\n",
       "      <td>CASANERO INC DES:DIRECT DEP</td>\n",
       "      <td>7810.59</td>\n",
       "      <td>98238.21</td>\n",
       "    </tr>\n",
       "    <tr>\n",
       "      <th>2016-06-28</th>\n",
       "      <td>Check 4167</td>\n",
       "      <td>-150.00</td>\n",
       "      <td>98088.21</td>\n",
       "    </tr>\n",
       "    <tr>\n",
       "      <th>2016-06-28</th>\n",
       "      <td>KABULI LOAN PAYMENT</td>\n",
       "      <td>-213.00</td>\n",
       "      <td>97875.21</td>\n",
       "    </tr>\n",
       "    <tr>\n",
       "      <th>2016-07-01</th>\n",
       "      <td>Online scheduled transfer to Savings Account</td>\n",
       "      <td>-200.00</td>\n",
       "      <td>97675.21</td>\n",
       "    </tr>\n",
       "    <tr>\n",
       "      <th>2016-07-05</th>\n",
       "      <td>HOME MTG</td>\n",
       "      <td>-1400.00</td>\n",
       "      <td>96275.21</td>\n",
       "    </tr>\n",
       "    <tr>\n",
       "      <th>2016-07-06</th>\n",
       "      <td>HOME SECURITY</td>\n",
       "      <td>-40.00</td>\n",
       "      <td>96235.21</td>\n",
       "    </tr>\n",
       "    <tr>\n",
       "      <th>2016-07-07</th>\n",
       "      <td>HOME INSURANCE</td>\n",
       "      <td>-100.00</td>\n",
       "      <td>96135.21</td>\n",
       "    </tr>\n",
       "    <tr>\n",
       "      <th>2016-07-07</th>\n",
       "      <td>CAR INSURANCE</td>\n",
       "      <td>-80.00</td>\n",
       "      <td>96055.21</td>\n",
       "    </tr>\n",
       "    <tr>\n",
       "      <th>2016-07-08</th>\n",
       "      <td>Check 4168</td>\n",
       "      <td>-308.51</td>\n",
       "      <td>95746.70</td>\n",
       "    </tr>\n",
       "  </tbody>\n",
       "</table>\n",
       "</div>"
      ],
      "text/plain": [
       "                                             Description   Amount   Balance\n",
       "Date                                                                       \n",
       "2016-05-13                   CASANERO INC DES:DIRECT DEP  7810.59  79430.67\n",
       "2016-05-16                        ATM WITHDRWL COLLIN TX -1500.00  77930.67\n",
       "2016-05-16                                 LEG INSURANCE  -124.65  77806.02\n",
       "2016-05-20                                    Check 4163  -150.00  77656.02\n",
       "2016-05-26                   CASANERO INC DES:DIRECT DEP  7810.59  85466.61\n",
       "2016-05-31                           KABULI LOAN PAYMENT  -213.00  85253.61\n",
       "2016-06-01                           MILAGRO INC:DIR DEP  2250.65  87504.26\n",
       "2016-06-01                                    Check 4164  -500.00  87004.26\n",
       "2016-06-01  Online scheduled transfer to Savings Account  -200.00  86804.26\n",
       "2016-06-02                                      HOME MTG -1400.00  85404.26\n",
       "2016-06-03                                 HOME SECURITY   -40.00  85364.26\n",
       "2016-06-06                                     TOM THUMB   -98.78  85265.48\n",
       "2016-06-06                 DISCOVERY CREDIT CARD: ONLINE -1175.06  84090.42\n",
       "2016-06-07                                    Check 4165 -2902.26  81188.16\n",
       "2016-06-08                                HOME INSURANCE  -100.00  81088.16\n",
       "2016-06-08                                 CAR INSURANCE   -80.00  81008.16\n",
       "2016-06-14                                    Check 4166  -217.13  80791.03\n",
       "2016-06-15                           MILAGRO INC:DIR DEP  2250.65  83041.68\n",
       "2016-06-15                   CASANERO INC DES:DIRECT DEP  7810.59  90852.27\n",
       "2016-06-16                                 LEG INSURANCE  -124.65  90727.62\n",
       "2016-06-23                        ATM WITHDRWL COLLIN TX  -300.00  90427.62\n",
       "2016-06-24                   CASANERO INC DES:DIRECT DEP  7810.59  98238.21\n",
       "2016-06-28                                    Check 4167  -150.00  98088.21\n",
       "2016-06-28                           KABULI LOAN PAYMENT  -213.00  97875.21\n",
       "2016-07-01  Online scheduled transfer to Savings Account  -200.00  97675.21\n",
       "2016-07-05                                      HOME MTG -1400.00  96275.21\n",
       "2016-07-06                                 HOME SECURITY   -40.00  96235.21\n",
       "2016-07-07                                HOME INSURANCE  -100.00  96135.21\n",
       "2016-07-07                                 CAR INSURANCE   -80.00  96055.21\n",
       "2016-07-08                                    Check 4168  -308.51  95746.70"
      ]
     },
     "execution_count": 78,
     "metadata": {},
     "output_type": "execute_result"
    }
   ],
   "source": [
    "df.tail(30)"
   ]
  },
  {
   "cell_type": "code",
   "execution_count": 49,
   "metadata": {
    "collapsed": false
   },
   "outputs": [],
   "source": [
    "def get_balance(adj, r, tdf):\n",
    "    \"\"\"\n",
    "    adj: avg, min, max, curr\n",
    "    \"\"\"\n",
    "    start = datetime.date(r.start.year, r.start.month, r.start.day)\n",
    "    end = datetime.date(r.end.year, r.end.month, r.end.day)\n",
    "    if adj == 'curr':\n",
    "        return tdf.iloc[-1].Balance\n",
    "    if adj == 'avg':\n",
    "        return tdf[start:end].Balance.mean()\n",
    "\n",
    "def act(key, adj, r, tdf):\n",
    "    if key == 'balance':\n",
    "        if adj == 'curr':\n",
    "            print \"Current Balance: %0.2f\"%get_balance(adj, r, tdf)\n",
    "        elif adj == 'avg':\n",
    "            print \"Avg Balance for Timeline: %s: %0.2f\"%(r, get_balance(adj, r, tdf))\n",
    "\n",
    "def decipher(s, tdf):\n",
    "    key, adj, r = stoinfo(s)\n",
    "    print 'key=%s, adj=%s, r=%s\\n-------\\n'%(key,adj,r)\n",
    "    act(key,adj,r, tdf)"
   ]
  },
  {
   "cell_type": "code",
   "execution_count": 61,
   "metadata": {
    "collapsed": false
   },
   "outputs": [
    {
     "name": "stdout",
     "output_type": "stream",
     "text": [
      "balance NN ROOT\n",
      " +-- latest JJS amod\n",
      "-----\n",
      "in last month\n",
      "From 06/12/16 00:00:00 to 07/12/16 00:00:00\n",
      "key=balance, adj=curr, r=From 06/12/16 00:00:00 to 07/12/16 00:00:00\n",
      "-------\n",
      "\n",
      "Current Balance: 95746.70\n"
     ]
    }
   ],
   "source": [
    "decipher(\"latest balance\", df)"
   ]
  },
  {
   "cell_type": "code",
   "execution_count": 63,
   "metadata": {
    "collapsed": false
   },
   "outputs": [
    {
     "name": "stdout",
     "output_type": "stream",
     "text": [
      "balance NN ROOT\n",
      " +-- average JJ amod\n",
      " +-- from IN prep\n",
      "     +-- 2015 CD pobj\n",
      "     |   +-- august JJ amod\n",
      "     +-- to IN prep\n",
      "         +-- june NN pobj\n",
      "             +-- 2016 CD num\n",
      "-----\n",
      "Tree form\n",
      " from\n",
      "\t 2015\n",
      "\t\t august\n",
      "\t to\n",
      "\t\t june\n",
      "\t\t\t 2016\n",
      "-----\n",
      "2015 august to june 2016\n",
      "from 2015 august to june 2016\n",
      "From 08/01/15 00:00:00 to 06/01/16 00:00:00\n",
      "key=balance, adj=avg, r=From 08/01/15 00:00:00 to 06/01/16 00:00:00\n",
      "-------\n",
      "\n",
      "Avg Balance for Timeline: From 08/01/15 00:00:00 to 06/01/16 00:00:00: 58625.19\n"
     ]
    }
   ],
   "source": [
    "decipher(\"average balance from august 2015 to june 2016\", df)"
   ]
  },
  {
   "cell_type": "code",
   "execution_count": 30,
   "metadata": {
    "collapsed": false
   },
   "outputs": [
    {
     "data": {
      "text/plain": [
       "2016"
      ]
     },
     "execution_count": 30,
     "metadata": {},
     "output_type": "execute_result"
    }
   ],
   "source": [
    "r.start.year"
   ]
  },
  {
   "cell_type": "code",
   "execution_count": 32,
   "metadata": {
    "collapsed": false
   },
   "outputs": [],
   "source": [
    "td = datetime.date(r.start.year, r.start.month, r.start.day)"
   ]
  },
  {
   "cell_type": "code",
   "execution_count": 34,
   "metadata": {
    "collapsed": false
   },
   "outputs": [],
   "source": [
    "start = datetime.date(r.start.year, r.start.month, r.start.day)\n",
    "end = datetime.date(r.end.year, r.end.month, r.end.day)"
   ]
  },
  {
   "cell_type": "code",
   "execution_count": 35,
   "metadata": {
    "collapsed": false
   },
   "outputs": [
    {
     "data": {
      "text/plain": [
       "datetime.date(2016, 6, 12)"
      ]
     },
     "execution_count": 35,
     "metadata": {},
     "output_type": "execute_result"
    }
   ],
   "source": [
    "start"
   ]
  },
  {
   "cell_type": "code",
   "execution_count": 36,
   "metadata": {
    "collapsed": false
   },
   "outputs": [
    {
     "data": {
      "text/plain": [
       "datetime.date(2016, 7, 12)"
      ]
     },
     "execution_count": 36,
     "metadata": {},
     "output_type": "execute_result"
    }
   ],
   "source": [
    "end"
   ]
  },
  {
   "cell_type": "code",
   "execution_count": 44,
   "metadata": {
    "collapsed": false
   },
   "outputs": [
    {
     "data": {
      "text/plain": [
       "93440.32857142854"
      ]
     },
     "execution_count": 44,
     "metadata": {},
     "output_type": "execute_result"
    }
   ],
   "source": [
    "df[start:end].Balance.mean()"
   ]
  },
  {
   "cell_type": "code",
   "execution_count": null,
   "metadata": {
    "collapsed": true
   },
   "outputs": [],
   "source": []
  }
 ],
 "metadata": {
  "kernelspec": {
   "display_name": "Python [Root]",
   "language": "python",
   "name": "Python [Root]"
  },
  "language_info": {
   "codemirror_mode": {
    "name": "ipython",
    "version": 2
   },
   "file_extension": ".py",
   "mimetype": "text/x-python",
   "name": "python",
   "nbconvert_exporter": "python",
   "pygments_lexer": "ipython2",
   "version": "2.7.12"
  }
 },
 "nbformat": 4,
 "nbformat_minor": 0
}
